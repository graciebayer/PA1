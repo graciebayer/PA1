{
 "cells": [
  {
   "cell_type": "code",
   "execution_count": 1,
   "id": "8ba72c40",
   "metadata": {},
   "outputs": [
    {
     "name": "stdout",
     "output_type": "stream",
     "text": [
      "Enter a floating point number: 44.3\n"
     ]
    }
   ],
   "source": [
    "value1=float(input('Enter a floating point number: '))"
   ]
  },
  {
   "cell_type": "code",
   "execution_count": 2,
   "id": "835ace30",
   "metadata": {},
   "outputs": [
    {
     "name": "stdout",
     "output_type": "stream",
     "text": [
      "Enter an integer: 16\n"
     ]
    }
   ],
   "source": [
    "value2=int(input('Enter an integer: '))"
   ]
  },
  {
   "cell_type": "code",
   "execution_count": 3,
   "id": "8e517ef5",
   "metadata": {},
   "outputs": [
    {
     "name": "stdout",
     "output_type": "stream",
     "text": [
      "The sum is 60.3\n"
     ]
    }
   ],
   "source": [
    "print('The sum is', value1+value2)"
   ]
  },
  {
   "cell_type": "code",
   "execution_count": 4,
   "id": "73bd931d",
   "metadata": {},
   "outputs": [
    {
     "name": "stdout",
     "output_type": "stream",
     "text": [
      "The difference is 28.299999999999997\n"
     ]
    }
   ],
   "source": [
    "print('The difference is', value1-value2)"
   ]
  },
  {
   "cell_type": "code",
   "execution_count": 5,
   "id": "43fbfd65",
   "metadata": {},
   "outputs": [
    {
     "name": "stdout",
     "output_type": "stream",
     "text": [
      "The product is 708.8\n"
     ]
    }
   ],
   "source": [
    "print('The product is', value1*value2)"
   ]
  },
  {
   "cell_type": "code",
   "execution_count": 6,
   "id": "fc53d154",
   "metadata": {},
   "outputs": [
    {
     "name": "stdout",
     "output_type": "stream",
     "text": [
      "The quotient is 2.76875\n"
     ]
    }
   ],
   "source": [
    "print('The quotient is', value1/value2)"
   ]
  },
  {
   "cell_type": "code",
   "execution_count": 7,
   "id": "e0b5814c",
   "metadata": {},
   "outputs": [
    {
     "data": {
      "text/plain": [
       "float"
      ]
     },
     "execution_count": 7,
     "metadata": {},
     "output_type": "execute_result"
    }
   ],
   "source": [
    "type(2.768)"
   ]
  },
  {
   "cell_type": "markdown",
   "id": "81634792",
   "metadata": {},
   "source": [
    "# CS150-01 Programming Assignment 1 - Submitting Project to GitHub"
   ]
  },
  {
   "cell_type": "markdown",
   "id": "74f38206",
   "metadata": {},
   "source": [
    "## Gracie Bayer - Professor Sarkar - Fall 2021"
   ]
  },
  {
   "cell_type": "markdown",
   "id": "9f1f05ce",
   "metadata": {},
   "source": [
    "### Chapter 2 - Intro to Python Programming - Deitel & Deitel"
   ]
  },
  {
   "cell_type": "code",
   "execution_count": null,
   "id": "550badba",
   "metadata": {},
   "outputs": [],
   "source": []
  }
 ],
 "metadata": {
  "kernelspec": {
   "display_name": "Python 3",
   "language": "python",
   "name": "python3"
  },
  "language_info": {
   "codemirror_mode": {
    "name": "ipython",
    "version": 3
   },
   "file_extension": ".py",
   "mimetype": "text/x-python",
   "name": "python",
   "nbconvert_exporter": "python",
   "pygments_lexer": "ipython3",
   "version": "3.8.8"
  }
 },
 "nbformat": 4,
 "nbformat_minor": 5
}
